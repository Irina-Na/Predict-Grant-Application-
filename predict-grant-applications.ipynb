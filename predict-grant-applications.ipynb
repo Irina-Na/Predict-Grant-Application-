{
 "cells": [
  {
   "cell_type": "markdown",
   "metadata": {
    "papermill": {
     "duration": 0.021381,
     "end_time": "2020-12-07T07:37:42.718019",
     "exception": false,
     "start_time": "2020-12-07T07:37:42.696638",
     "status": "completed"
    },
    "tags": []
   },
   "source": [
    "## Data preprocessing and logistic regression for a binary classification problem"
   ]
  },
  {
   "cell_type": "code",
   "execution_count": 1,
   "metadata": {
    "execution": {
     "iopub.execute_input": "2020-12-07T07:37:42.766485Z",
     "iopub.status.busy": "2020-12-07T07:37:42.765720Z",
     "iopub.status.idle": "2020-12-07T07:37:44.052087Z",
     "shell.execute_reply": "2020-12-07T07:37:44.051299Z"
    },
    "papermill": {
     "duration": 1.315766,
     "end_time": "2020-12-07T07:37:44.052224",
     "exception": false,
     "start_time": "2020-12-07T07:37:42.736458",
     "status": "completed"
    },
    "tags": []
   },
   "outputs": [],
   "source": [
    "import pandas as pd\n",
    "import numpy as np\n",
    "import matplotlib\n",
    "from matplotlib import pyplot as plt\n",
    "from sklearn.linear_model import LogisticRegression as LR\n",
    "from sklearn.feature_extraction import DictVectorizer as DV\n",
    "matplotlib.style.use('ggplot')\n",
    "%matplotlib inline\n",
    "from sklearn.linear_model import LogisticRegression\n",
    "from sklearn.model_selection import GridSearchCV\n",
    "from sklearn.metrics import roc_auc_score\n",
    "import warnings\n",
    "warnings.filterwarnings('ignore')"
   ]
  },
  {
   "cell_type": "code",
   "execution_count": 2,
   "metadata": {
    "execution": {
     "iopub.execute_input": "2020-12-07T07:37:44.096880Z",
     "iopub.status.busy": "2020-12-07T07:37:44.096071Z",
     "iopub.status.idle": "2020-12-07T07:37:44.525289Z",
     "shell.execute_reply": "2020-12-07T07:37:44.524692Z"
    },
    "papermill": {
     "duration": 0.454871,
     "end_time": "2020-12-07T07:37:44.525406",
     "exception": false,
     "start_time": "2020-12-07T07:37:44.070535",
     "status": "completed"
    },
    "tags": []
   },
   "outputs": [
    {
     "name": "stdout",
     "output_type": "stream",
     "text": [
      "<class 'pandas.core.frame.DataFrame'>\n",
      "RangeIndex: 8708 entries, 0 to 8707\n",
      "Columns: 252 entries, Grant.Application.ID to Unnamed: 251\n",
      "dtypes: float64(180), int64(2), object(70)\n",
      "memory usage: 16.7+ MB\n",
      "None\n"
     ]
    },
    {
     "data": {
      "text/plain": [
       "(2176, 252)"
      ]
     },
     "execution_count": 2,
     "metadata": {},
     "output_type": "execute_result"
    }
   ],
   "source": [
    "data = pd.read_csv('../input/unimelb/unimelb_training.csv')\n",
    "print(data.info())\n",
    "\n",
    "test = pd.read_csv('../input/unimelb/unimelb_test.csv')\n",
    "test.shape"
   ]
  },
  {
   "cell_type": "code",
   "execution_count": 3,
   "metadata": {
    "execution": {
     "iopub.execute_input": "2020-12-07T07:37:44.577874Z",
     "iopub.status.busy": "2020-12-07T07:37:44.577113Z",
     "iopub.status.idle": "2020-12-07T07:37:44.814964Z",
     "shell.execute_reply": "2020-12-07T07:37:44.814131Z"
    },
    "papermill": {
     "duration": 0.269928,
     "end_time": "2020-12-07T07:37:44.815161",
     "exception": false,
     "start_time": "2020-12-07T07:37:44.545233",
     "status": "completed"
    },
    "tags": []
   },
   "outputs": [
    {
     "name": "stdout",
     "output_type": "stream",
     "text": [
      "<class 'pandas.core.frame.DataFrame'>\n",
      "RangeIndex: 10884 entries, 0 to 10883\n",
      "Columns: 251 entries, Grant.Application.ID to Unnamed: 251\n",
      "dtypes: float64(180), int64(1), object(70)\n",
      "memory usage: 20.8+ MB\n"
     ]
    }
   ],
   "source": [
    "X = pd.concat([data, test], ignore_index= 'True').drop('Grant.Status', 1)\n",
    "#X= data.drop('Grant.Status', 1)\n",
    "y = data['Grant.Status']\n",
    "X.info()"
   ]
  },
  {
   "cell_type": "code",
   "execution_count": 4,
   "metadata": {
    "execution": {
     "iopub.execute_input": "2020-12-07T07:37:44.870331Z",
     "iopub.status.busy": "2020-12-07T07:37:44.869522Z",
     "iopub.status.idle": "2020-12-07T07:37:44.883484Z",
     "shell.execute_reply": "2020-12-07T07:37:44.882729Z"
    },
    "papermill": {
     "duration": 0.048217,
     "end_time": "2020-12-07T07:37:44.883653",
     "exception": false,
     "start_time": "2020-12-07T07:37:44.835436",
     "status": "completed"
    },
    "tags": []
   },
   "outputs": [
    {
     "name": "stdout",
     "output_type": "stream",
     "text": [
      "(181,) (70,)\n"
     ]
    }
   ],
   "source": [
    "ind,numeric_cols = X.select_dtypes(exclude=['object']).axes\n",
    "\n",
    "ind,categorical_cols = X.select_dtypes(include=['object']).axes\n",
    "\n",
    "print(numeric_cols.shape, categorical_cols.shape)"
   ]
  },
  {
   "cell_type": "code",
   "execution_count": 5,
   "metadata": {
    "execution": {
     "iopub.execute_input": "2020-12-07T07:37:44.938540Z",
     "iopub.status.busy": "2020-12-07T07:37:44.937237Z",
     "iopub.status.idle": "2020-12-07T07:37:45.299093Z",
     "shell.execute_reply": "2020-12-07T07:37:45.298327Z"
    },
    "papermill": {
     "duration": 0.394609,
     "end_time": "2020-12-07T07:37:45.299252",
     "exception": false,
     "start_time": "2020-12-07T07:37:44.904643",
     "status": "completed"
    },
    "tags": []
   },
   "outputs": [
    {
     "name": "stdout",
     "output_type": "stream",
     "text": [
      "(10884, 70) (10884, 181)\n"
     ]
    }
   ],
   "source": [
    "X_real_zeros = X[numeric_cols].fillna(0.0)\n",
    "\n",
    "\"\"\"X_real_mean = X[numeric_cols] \n",
    "for col in numeric_cols:\n",
    "     X_real_mean[col]=X_real_mean[col].fillna(np.mean(X_real_mean[col]))\"\"\"\n",
    "        \n",
    "X_cat = X[categorical_cols].fillna('NA').astype(str)\n",
    "print (X_cat.shape, X_real_zeros.shape)"
   ]
  },
  {
   "cell_type": "markdown",
   "metadata": {
    "papermill": {
     "duration": 0.021101,
     "end_time": "2020-12-07T07:37:45.343828",
     "exception": false,
     "start_time": "2020-12-07T07:37:45.322727",
     "status": "completed"
    },
    "tags": []
   },
   "source": [
    "# One-hot encoding:"
   ]
  },
  {
   "cell_type": "code",
   "execution_count": 6,
   "metadata": {
    "execution": {
     "iopub.execute_input": "2020-12-07T07:37:45.393309Z",
     "iopub.status.busy": "2020-12-07T07:37:45.392477Z",
     "iopub.status.idle": "2020-12-07T07:37:48.653223Z",
     "shell.execute_reply": "2020-12-07T07:37:48.652574Z"
    },
    "papermill": {
     "duration": 3.288232,
     "end_time": "2020-12-07T07:37:48.653345",
     "exception": false,
     "start_time": "2020-12-07T07:37:45.365113",
     "status": "completed"
    },
    "tags": []
   },
   "outputs": [
    {
     "name": "stdout",
     "output_type": "stream",
     "text": [
      "(10884, 1647)\n"
     ]
    }
   ],
   "source": [
    "encoder = DV(sparse = False)\n",
    "X_cat_oh = encoder.fit_transform(X_cat.T.to_dict().values())\n",
    "\n",
    "print (X_cat_oh.shape)"
   ]
  },
  {
   "cell_type": "markdown",
   "metadata": {
    "papermill": {
     "duration": 0.021101,
     "end_time": "2020-12-07T07:37:48.696018",
     "exception": false,
     "start_time": "2020-12-07T07:37:48.674917",
     "status": "completed"
    },
    "tags": []
   },
   "source": [
    "## Features scaling"
   ]
  },
  {
   "cell_type": "code",
   "execution_count": 7,
   "metadata": {
    "execution": {
     "iopub.execute_input": "2020-12-07T07:37:48.748587Z",
     "iopub.status.busy": "2020-12-07T07:37:48.747652Z",
     "iopub.status.idle": "2020-12-07T07:37:50.246927Z",
     "shell.execute_reply": "2020-12-07T07:37:50.247606Z"
    },
    "papermill": {
     "duration": 1.529949,
     "end_time": "2020-12-07T07:37:50.247787",
     "exception": false,
     "start_time": "2020-12-07T07:37:48.717838",
     "status": "completed"
    },
    "tags": []
   },
   "outputs": [
    {
     "data": {
      "image/png": "[encoded data removed]",
      "text/plain": [
       "<Figure size 720x720 with 9 Axes>"
      ]
     },
     "metadata": {
      "needs_background": "light"
     },
     "output_type": "display_data"
    }
   ],
   "source": [
    "from pandas.plotting import scatter_matrix\n",
    "\n",
    "data_numeric = pd.DataFrame(X_real_zeros, columns=numeric_cols)\n",
    "list_cols = ['Number.of.Successful.Grant.1', 'SEO.Percentage.2', 'Year.of.Birth.1']\n",
    "scatter_matrix(data_numeric[list_cols], alpha=0.5, figsize=(10, 10))\n",
    "plt.show()"
   ]
  },
  {
   "cell_type": "code",
   "execution_count": 8,
   "metadata": {
    "execution": {
     "iopub.execute_input": "2020-12-07T07:37:50.310605Z",
     "iopub.status.busy": "2020-12-07T07:37:50.309801Z",
     "iopub.status.idle": "2020-12-07T07:37:50.375154Z",
     "shell.execute_reply": "2020-12-07T07:37:50.374489Z"
    },
    "papermill": {
     "duration": 0.101094,
     "end_time": "2020-12-07T07:37:50.375277",
     "exception": false,
     "start_time": "2020-12-07T07:37:50.274183",
     "status": "completed"
    },
    "tags": []
   },
   "outputs": [],
   "source": [
    "from sklearn.preprocessing import StandardScaler\n",
    "\n",
    "scaler = StandardScaler()\n",
    "X_real_scaled = scaler.fit_transform(X_real_zeros)\n",
    "#X_real_mean_scaled = scaler.fit_transform(X_real_means)"
   ]
  },
  {
   "cell_type": "markdown",
   "metadata": {
    "papermill": {
     "duration": 0.023252,
     "end_time": "2020-12-07T07:37:50.422217",
     "exception": false,
     "start_time": "2020-12-07T07:37:50.398965",
     "status": "completed"
    },
    "tags": []
   },
   "source": [
    "Let's build the same graphs for the converted data:"
   ]
  },
  {
   "cell_type": "code",
   "execution_count": 9,
   "metadata": {
    "execution": {
     "iopub.execute_input": "2020-12-07T07:37:50.484036Z",
     "iopub.status.busy": "2020-12-07T07:37:50.477862Z",
     "iopub.status.idle": "2020-12-07T07:37:51.814062Z",
     "shell.execute_reply": "2020-12-07T07:37:51.814695Z"
    },
    "papermill": {
     "duration": 1.369105,
     "end_time": "2020-12-07T07:37:51.814874",
     "exception": false,
     "start_time": "2020-12-07T07:37:50.445769",
     "status": "completed"
    },
    "tags": []
   },
   "outputs": [
    {
     "data": {
      "image/png": "[encoded data removed]",
      "text/plain": [
       "<Figure size 720x720 with 9 Axes>"
      ]
     },
     "metadata": {
      "needs_background": "light"
     },
     "output_type": "display_data"
    }
   ],
   "source": [
    "data_numeric_scaled = pd.DataFrame(X_real_scaled, columns=numeric_cols)\n",
    "list_cols = ['Number.of.Successful.Grant.1', 'SEO.Percentage.2', 'Year.of.Birth.1']\n",
    "scatter_matrix(data_numeric_scaled[list_cols], alpha=0.5, figsize=(10, 10))\n",
    "plt.show()"
   ]
  },
  {
   "cell_type": "markdown",
   "metadata": {
    "papermill": {
     "duration": 0.028215,
     "end_time": "2020-12-07T07:37:51.871874",
     "exception": false,
     "start_time": "2020-12-07T07:37:51.843659",
     "status": "completed"
    },
    "tags": []
   },
   "source": [
    "### Let's select the validation set:"
   ]
  },
  {
   "cell_type": "code",
   "execution_count": 10,
   "metadata": {
    "execution": {
     "iopub.execute_input": "2020-12-07T07:37:51.940761Z",
     "iopub.status.busy": "2020-12-07T07:37:51.939946Z",
     "iopub.status.idle": "2020-12-07T07:37:51.991171Z",
     "shell.execute_reply": "2020-12-07T07:37:51.992123Z"
    },
    "papermill": {
     "duration": 0.089427,
     "end_time": "2020-12-07T07:37:51.992389",
     "exception": false,
     "start_time": "2020-12-07T07:37:51.902962",
     "status": "completed"
    },
    "tags": []
   },
   "outputs": [
    {
     "name": "stdout",
     "output_type": "stream",
     "text": [
      "<class 'pandas.core.frame.DataFrame'>\n",
      "RangeIndex: 10884 entries, 0 to 10883\n",
      "Columns: 181 entries, Grant.Application.ID to Unnamed: 251\n",
      "dtypes: float64(180), int64(1)\n",
      "memory usage: 15.0 MB\n",
      "None\n",
      "(2176, 1828)\n"
     ]
    }
   ],
   "source": [
    "test_zeros=np.hstack((X_real_zeros[8708:] , X_cat_oh[8708:]))\n",
    "#test_mean=np.hstack((X_real_mean [8708:] , X_cat_oh[8708:]))\n",
    "\n",
    "X_real_zeros_cut = X_real_zeros [:8708]\n",
    "#X_real_mean_cut =X_real_mean [:8708]\n",
    "X_cat_oh_cut = X_cat_oh [:8708]\n",
    "\n",
    "\n",
    "print(X_real_zeros.info())\n",
    "print(test_zeros.shape)"
   ]
  },
  {
   "cell_type": "markdown",
   "metadata": {
    "papermill": {
     "duration": 0.037012,
     "end_time": "2020-12-07T07:37:52.069238",
     "exception": false,
     "start_time": "2020-12-07T07:37:52.032226",
     "status": "completed"
    },
    "tags": []
   },
   "source": [
    "# Stratification "
   ]
  },
  {
   "cell_type": "code",
   "execution_count": 11,
   "metadata": {
    "execution": {
     "iopub.execute_input": "2020-12-07T07:37:52.131164Z",
     "iopub.status.busy": "2020-12-07T07:37:52.130278Z",
     "iopub.status.idle": "2020-12-07T07:37:52.236206Z",
     "shell.execute_reply": "2020-12-07T07:37:52.235425Z"
    },
    "papermill": {
     "duration": 0.140706,
     "end_time": "2020-12-07T07:37:52.236334",
     "exception": false,
     "start_time": "2020-12-07T07:37:52.095628",
     "status": "completed"
    },
    "tags": []
   },
   "outputs": [
    {
     "name": "stdout",
     "output_type": "stream",
     "text": [
      "(6095, 181)\n"
     ]
    },
    {
     "data": {
      "text/plain": [
       "(6095,)"
      ]
     },
     "execution_count": 11,
     "metadata": {},
     "output_type": "execute_result"
    }
   ],
   "source": [
    "from sklearn.model_selection import train_test_split\n",
    "\n",
    "(X_train_real_zeros, X_test_real_zeros, y_train, y_test) = train_test_split(X_real_zeros_cut, y, test_size=0.3, stratify=y, random_state=0)\n",
    "#(X_train_real_mean,  X_test_real_mean) = train_test_split(X_real_mean_cut, test_size=0.3, stratify=y, random_state=0)\n",
    "(X_train_cat_oh, X_test_cat_oh) = train_test_split(X_cat_oh_cut, test_size=0.3, random_state=0, stratify=y)\n",
    "print (X_train_real_zeros.shape)\n",
    "y_train.shape"
   ]
  },
  {
   "cell_type": "markdown",
   "metadata": {
    "papermill": {
     "duration": 0.027219,
     "end_time": "2020-12-07T07:37:52.290684",
     "exception": false,
     "start_time": "2020-12-07T07:37:52.263465",
     "status": "completed"
    },
    "tags": []
   },
   "source": [
    "## Балансировка классов\n",
    "Посмотрим, сбалансированны ли классы в нашей обучающей выборке:"
   ]
  },
  {
   "cell_type": "code",
   "execution_count": 12,
   "metadata": {
    "execution": {
     "iopub.execute_input": "2020-12-07T07:37:52.351279Z",
     "iopub.status.busy": "2020-12-07T07:37:52.350435Z",
     "iopub.status.idle": "2020-12-07T07:37:52.381959Z",
     "shell.execute_reply": "2020-12-07T07:37:52.382868Z"
    },
    "papermill": {
     "duration": 0.065309,
     "end_time": "2020-12-07T07:37:52.383089",
     "exception": false,
     "start_time": "2020-12-07T07:37:52.317780",
     "status": "completed"
    },
    "tags": []
   },
   "outputs": [
    {
     "name": "stdout",
     "output_type": "stream",
     "text": [
      "3301\n",
      "2794\n"
     ]
    }
   ],
   "source": [
    "print(np.sum(y_train==0))\n",
    "print(np.sum(y_train==1))"
   ]
  },
  {
   "cell_type": "markdown",
   "metadata": {
    "papermill": {
     "duration": 0.027411,
     "end_time": "2020-12-07T07:37:52.438641",
     "exception": false,
     "start_time": "2020-12-07T07:37:52.411230",
     "status": "completed"
    },
    "tags": []
   },
   "source": [
    "# Feature Selection Using Lasso Regression\n",
    "+class_weight='balanced'"
   ]
  },
  {
   "cell_type": "code",
   "execution_count": 13,
   "metadata": {
    "execution": {
     "iopub.execute_input": "2020-12-07T07:37:52.503206Z",
     "iopub.status.busy": "2020-12-07T07:37:52.502418Z",
     "iopub.status.idle": "2020-12-07T07:38:28.099768Z",
     "shell.execute_reply": "2020-12-07T07:38:28.100552Z"
    },
    "papermill": {
     "duration": 35.634485,
     "end_time": "2020-12-07T07:38:28.100767",
     "exception": false,
     "start_time": "2020-12-07T07:37:52.466282",
     "status": "completed"
    },
    "tags": []
   },
   "outputs": [
    {
     "name": "stdout",
     "output_type": "stream",
     "text": [
      "score_lasso 0.837571206018007\n",
      "param _lasso {'C': 1}\n"
     ]
    }
   ],
   "source": [
    "param_grid = {'C': [0.01, 0.05, 0.1, 0.5, 1, 5, 10]}\n",
    "\n",
    "learn_zeros=np.hstack((X_train_real_zeros,X_train_cat_oh))\n",
    "#learn_means=np.hstack((X_train_real_mean,X_train_cat_oh))\n",
    "\n",
    "estimator_lasso = LogisticRegression (solver='liblinear',  class_weight='balanced', penalty = 'l1')\n",
    "optimizer_zeros = GridSearchCV(estimator_lasso, param_grid,  cv=3, n_jobs=-1)                \n",
    "optimizer_zeros.fit(learn_zeros, y_train)\n",
    "\n",
    "#optimizer_means = GridSearchCV(estimator_lasso, param_grid,  cv=3, n_jobs=-1)                \n",
    "#optimizer_means.fit(learn_means, y_train)\n",
    "\n",
    "\n",
    "print('score_lasso', optimizer_zeros.best_score_)\n",
    "print('param _lasso', optimizer_zeros.best_params_)\n",
    "#print('score_zeros_Smb', optimizer_means.best_score_)"
   ]
  },
  {
   "cell_type": "code",
   "execution_count": 14,
   "metadata": {
    "execution": {
     "iopub.execute_input": "2020-12-07T07:38:28.182143Z",
     "iopub.status.busy": "2020-12-07T07:38:28.181304Z",
     "iopub.status.idle": "2020-12-07T07:38:28.893966Z",
     "shell.execute_reply": "2020-12-07T07:38:28.894567Z"
    },
    "papermill": {
     "duration": 0.764948,
     "end_time": "2020-12-07T07:38:28.894738",
     "exception": false,
     "start_time": "2020-12-07T07:38:28.129790",
     "status": "completed"
    },
    "tags": []
   },
   "outputs": [
    {
     "data": {
      "image/png": "[encoded data removed]",
      "text/plain": [
       "<Figure size 432x288 with 1 Axes>"
      ]
     },
     "metadata": {
      "needs_background": "light"
     },
     "output_type": "display_data"
    },
    {
     "name": "stdout",
     "output_type": "stream",
     "text": [
      "param _zeros_Smb {'C': 1}\n",
      "[[-2.48371147e-04  1.53913805e-07  4.15689210e-03 ...  0.00000000e+00\n",
      "   0.00000000e+00  0.00000000e+00]]\n"
     ]
    }
   ],
   "source": [
    "def plot_scores(optimizer):\n",
    "    scores=[]\n",
    "    for i in range(len(optimizer.cv_results_['params'])):\n",
    "        scores.append([optimizer.cv_results_['params'][i]['C'], \n",
    "                optimizer.cv_results_['mean_test_score'][i],\n",
    "                optimizer.cv_results_['std_test_score'][i]])\n",
    "    scores = np.array(scores)\n",
    "    plt.semilogx(scores[:,0], scores[:,1])\n",
    "    plt.fill_between(scores[:,0], scores[:,1]-scores[:,2], \n",
    "                                  scores[:,1]+scores[:,2], alpha=0.3)\n",
    "    plt.show()\n",
    "    print('param _zeros_Smb', optimizer.best_params_)\n",
    "\n",
    "plot_scores(optimizer_zeros)\n",
    "#plot_scores(optimizer_means)\n",
    "\n",
    "\n",
    "print(optimizer_zeros.best_estimator_.coef_)"
   ]
  },
  {
   "cell_type": "code",
   "execution_count": 15,
   "metadata": {
    "execution": {
     "iopub.execute_input": "2020-12-07T07:38:28.959732Z",
     "iopub.status.busy": "2020-12-07T07:38:28.958921Z",
     "iopub.status.idle": "2020-12-07T07:38:28.970143Z",
     "shell.execute_reply": "2020-12-07T07:38:28.969470Z"
    },
    "papermill": {
     "duration": 0.045932,
     "end_time": "2020-12-07T07:38:28.970267",
     "exception": false,
     "start_time": "2020-12-07T07:38:28.924335",
     "status": "completed"
    },
    "tags": []
   },
   "outputs": [],
   "source": [
    "Y = optimizer_zeros.best_estimator_.predict_proba(test_zeros)[:,0]"
   ]
  },
  {
   "cell_type": "code",
   "execution_count": 16,
   "metadata": {
    "execution": {
     "iopub.execute_input": "2020-12-07T07:38:29.040053Z",
     "iopub.status.busy": "2020-12-07T07:38:29.039224Z",
     "iopub.status.idle": "2020-12-07T07:38:29.061023Z",
     "shell.execute_reply": "2020-12-07T07:38:29.061793Z"
    },
    "papermill": {
     "duration": 0.061458,
     "end_time": "2020-12-07T07:38:29.062013",
     "exception": false,
     "start_time": "2020-12-07T07:38:29.000555",
     "status": "completed"
    },
    "tags": []
   },
   "outputs": [
    {
     "name": "stdout",
     "output_type": "stream",
     "text": [
      "[0.00705474 0.00806123 0.88173818 ... 0.13242889 0.14620571 0.54375792]\n",
      "<bound method DataFrame.info of       Grant.Application.ID  Grant.Status\n",
      "0                        1      0.913801\n",
      "1                        2      0.201674\n",
      "2                        3      0.311615\n",
      "3                        4      0.324976\n",
      "4                        5      0.570575\n",
      "...                    ...           ...\n",
      "2171                  2172      0.561352\n",
      "2172                  2173      0.326442\n",
      "2173                  2174      0.350152\n",
      "2174                  2175      0.514520\n",
      "2175                  2176      0.804023\n",
      "\n",
      "[2176 rows x 2 columns]>\n",
      "0       1\n",
      "1       1\n",
      "2       1\n",
      "3       1\n",
      "4       0\n",
      "       ..\n",
      "8703    1\n",
      "8704    1\n",
      "8705    0\n",
      "8706    1\n",
      "8707    1\n",
      "Name: Grant.Status, Length: 8708, dtype: int64\n"
     ]
    }
   ],
   "source": [
    "print(Y)\n",
    "y_ans = pd.read_csv('../input/unimelb/unimelb_example.csv')\n",
    "print(y_ans.info)\n",
    "del y_ans[\"Grant.Status\"]\n",
    "y_ans['Grant.Status']=Y\n",
    "print(y)"
   ]
  },
  {
   "cell_type": "code",
   "execution_count": 17,
   "metadata": {
    "execution": {
     "iopub.execute_input": "2020-12-07T07:38:29.129266Z",
     "iopub.status.busy": "2020-12-07T07:38:29.128130Z",
     "iopub.status.idle": "2020-12-07T07:38:29.581953Z",
     "shell.execute_reply": "2020-12-07T07:38:29.581151Z"
    },
    "papermill": {
     "duration": 0.489097,
     "end_time": "2020-12-07T07:38:29.582079",
     "exception": false,
     "start_time": "2020-12-07T07:38:29.092982",
     "status": "completed"
    },
    "tags": []
   },
   "outputs": [],
   "source": [
    "y_ans.to_csv('./GrantStatus_answer.csv')"
   ]
  }
 ],
 "metadata": {
  "kernelspec": {
   "display_name": "Python 3",
   "language": "python",
   "name": "python3"
  },
  "language_info": {
   "codemirror_mode": {
    "name": "ipython",
    "version": 3
   },
   "file_extension": ".py",
   "mimetype": "text/x-python",
   "name": "python",
   "nbconvert_exporter": "python",
   "pygments_lexer": "ipython3",
   "version": "3.7.6"
  },
  "papermill": {
   "duration": 52.426927,
   "end_time": "2020-12-07T07:38:29.735092",
   "environment_variables": {},
   "exception": null,
   "input_path": "__notebook__.ipynb",
   "output_path": "__notebook__.ipynb",
   "parameters": {},
   "start_time": "2020-12-07T07:37:37.308165",
   "version": "2.1.0"
  }
 },
 "nbformat": 4,
 "nbformat_minor": 4
}
